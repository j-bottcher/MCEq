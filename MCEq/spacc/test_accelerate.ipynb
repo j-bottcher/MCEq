{
 "cells": [
  {
   "cell_type": "code",
   "execution_count": 1,
   "metadata": {},
   "outputs": [],
   "source": [
    "from ctypes import (\n",
    "    cdll,\n",
    "    c_int,\n",
    "    c_double,\n",
    "    c_longlong,\n",
    "    c_voidp,\n",
    "    POINTER,\n",
    ")\n",
    "import pickle\n",
    "import numpy as np\n"
   ]
  },
  {
   "cell_type": "code",
   "execution_count": 9,
   "metadata": {},
   "outputs": [],
   "source": [
    "spacc = cdll.LoadLibrary(\"spacc.so\")\n",
    "\n",
    "spacc.test.restype = c_int\n",
    "\n",
    "spacc.spacc_create_sparse_matrix.restype = c_int\n",
    "spacc.spacc_create_sparse_matrix.argtypes = [\n",
    "    c_int,\n",
    "    c_int,\n",
    "    c_int,\n",
    "    c_int,\n",
    "    POINTER(c_longlong),\n",
    "    POINTER(c_longlong),\n",
    "    POINTER(c_double),\n",
    "]\n",
    "spacc.spacc_gemv.restype = c_int\n",
    "spacc.spacc_gemv.argtypes = [c_double, c_int, POINTER(c_double), POINTER(c_double)]\n",
    "\n",
    "spacc.spacc_daxpy.restype = c_voidp\n",
    "spacc.spacc_daxpy.argtypes = [c_int, c_double, POINTER(c_double), POINTER(c_double)]\n"
   ]
  },
  {
   "cell_type": "code",
   "execution_count": 8,
   "metadata": {},
   "outputs": [
    {
     "data": {
      "text/plain": [
       "0"
      ]
     },
     "execution_count": 8,
     "metadata": {},
     "output_type": "execute_result"
    },
    {
     "name": "stdout",
     "output_type": "stream",
     "text": [
      "Overwriting existing matrix @ store_idx 0.\n",
      "Matrix added at 0\n",
      "Res: 201.000000\n",
      "Res: 310.000000\n",
      "Res: 104.000000\n",
      "Matrix destroyed at 0\n"
     ]
    }
   ],
   "source": [
    "spacc.test()\n"
   ]
  },
  {
   "cell_type": "code",
   "execution_count": null,
   "metadata": {},
   "outputs": [],
   "source": []
  },
  {
   "cell_type": "code",
   "execution_count": 4,
   "metadata": {},
   "outputs": [],
   "source": [
    "from scipy.sparse import coo_matrix\n",
    "\n",
    "coom = coo_matrix(np.random.random((3, 3)))\n"
   ]
  },
  {
   "cell_type": "code",
   "execution_count": 5,
   "metadata": {},
   "outputs": [],
   "source": [
    "class AccelerateSparseMatrix(object):\n",
    "    def __init__(self, scipy_sparse_matrix):\n",
    "        spm = scipy_sparse_matrix.tocoo()\n",
    "        self.dim_rows, self.dim_cols = spm.shape\n",
    "        self.nnz = spm.nnz\n",
    "        self.col = spm.col.astype(\"longlong\")\n",
    "        self.row = spm.row.astype(\"longlong\")\n",
    "        self.data = spm.data.astype(\"double\")\n",
    "        self.store_id = None\n",
    "        self._init_spacc_matrix()\n",
    "\n",
    "    def _init_spacc_matrix(self):\n",
    "        self.store_id = spacc.spacc_create_sparse_matrix(\n",
    "            -1,\n",
    "            self.dim_rows,\n",
    "            self.dim_cols,\n",
    "            self.nnz,\n",
    "            self.row.ctypes.data_as(POINTER(c_longlong)),\n",
    "            self.col.ctypes.data_as(POINTER(c_longlong)),\n",
    "            self.data.ctypes.data_as(POINTER(c_double)),\n",
    "        )\n",
    "        if self.store_id < 0:\n",
    "            raise Exception(\"Matrix creation failed.\")\n",
    "\n",
    "    def gemv(self, alpha, x, y):\n",
    "        assert x.shape[0] == self.dim_cols\n",
    "        assert y.shape[0] == self.dim_cols\n",
    "        assert x.dtype == \"float64\"\n",
    "        assert y.dtype == \"float64\"\n",
    "        alpha = np.double(alpha)\n",
    "\n",
    "        cy = y.ctypes.data_as(POINTER(c_double))\n",
    "        cx = x.ctypes.data_as(POINTER(c_double))\n",
    "        if spacc.spacc_gemv(alpha, self.store_id, cx, cy) != 0:\n",
    "            raise Exception(\"Sparse matrix-vector multiplication failed.\")\n"
   ]
  },
  {
   "cell_type": "code",
   "execution_count": 6,
   "metadata": {},
   "outputs": [
    {
     "ename": "FileNotFoundError",
     "evalue": "[Errno 2] No such file or directory: 'int_m.pkl'",
     "output_type": "error",
     "traceback": [
      "\u001b[0;31m---------------------------------------------------------------------------\u001b[0m",
      "\u001b[0;31mFileNotFoundError\u001b[0m                         Traceback (most recent call last)",
      "\u001b[0;32m/var/folders/gv/2f_2jdnx0_10yvjmxqdj0pcm0000gn/T/ipykernel_9923/1412319330.py\u001b[0m in \u001b[0;36m<module>\u001b[0;34m\u001b[0m\n\u001b[0;32m----> 1\u001b[0;31m \u001b[0mint_m\u001b[0m \u001b[0;34m=\u001b[0m \u001b[0mpickle\u001b[0m\u001b[0;34m.\u001b[0m\u001b[0mload\u001b[0m\u001b[0;34m(\u001b[0m\u001b[0mopen\u001b[0m\u001b[0;34m(\u001b[0m\u001b[0;34m\"int_m.pkl\"\u001b[0m\u001b[0;34m,\u001b[0m \u001b[0;34m\"rb\"\u001b[0m\u001b[0;34m)\u001b[0m\u001b[0;34m)\u001b[0m\u001b[0;34m\u001b[0m\u001b[0;34m\u001b[0m\u001b[0m\n\u001b[0m",
      "\u001b[0;31mFileNotFoundError\u001b[0m: [Errno 2] No such file or directory: 'int_m.pkl'"
     ]
    }
   ],
   "source": [
    "int_m = pickle.load(open(\"int_m.pkl\", \"rb\"))\n"
   ]
  },
  {
   "cell_type": "code",
   "execution_count": null,
   "metadata": {},
   "outputs": [
    {
     "name": "stdout",
     "output_type": "stream",
     "text": [
      "Assigned free store_idx 0.\n",
      "Matrix added at 0\n"
     ]
    }
   ],
   "source": [
    "aspm = AccelerateSparseMatrix(int_m)\n"
   ]
  },
  {
   "cell_type": "code",
   "execution_count": 12,
   "metadata": {},
   "outputs": [],
   "source": [
    "y = np.zeros(10000).astype(\"double\")\n",
    "x = np.random.random(10000).astype(\"double\")\n"
   ]
  },
  {
   "cell_type": "code",
   "execution_count": null,
   "metadata": {},
   "outputs": [
    {
     "name": "stdout",
     "output_type": "stream",
     "text": [
      "910 µs ± 22.2 µs per loop (mean ± std. dev. of 7 runs, 1000 loops each)\n"
     ]
    }
   ],
   "source": [
    "%timeit aspm.gemv(1.,x,y)"
   ]
  },
  {
   "cell_type": "code",
   "execution_count": null,
   "metadata": {},
   "outputs": [
    {
     "name": "stdout",
     "output_type": "stream",
     "text": [
      "4.4 ms ± 75.6 µs per loop (mean ± std. dev. of 7 runs, 100 loops each)\n"
     ]
    }
   ],
   "source": [
    "%timeit int_m.dot(x)"
   ]
  },
  {
   "cell_type": "code",
   "execution_count": 13,
   "metadata": {},
   "outputs": [
    {
     "ename": "NameError",
     "evalue": "name 'cx' is not defined",
     "output_type": "error",
     "traceback": [
      "\u001b[0;31m---------------------------------------------------------------------------\u001b[0m",
      "\u001b[0;31mNameError\u001b[0m                                 Traceback (most recent call last)",
      "\u001b[0;32m/var/folders/gv/2f_2jdnx0_10yvjmxqdj0pcm0000gn/T/ipykernel_9923/3938029622.py\u001b[0m in \u001b[0;36m<module>\u001b[0;34m\u001b[0m\n\u001b[0;32m----> 1\u001b[0;31m \u001b[0mspacc\u001b[0m\u001b[0;34m.\u001b[0m\u001b[0mspacc_daxpy\u001b[0m\u001b[0;34m(\u001b[0m\u001b[0mlen\u001b[0m\u001b[0;34m(\u001b[0m\u001b[0mx\u001b[0m\u001b[0;34m)\u001b[0m\u001b[0;34m,\u001b[0m \u001b[0;36m1.\u001b[0m\u001b[0;34m,\u001b[0m \u001b[0mcx\u001b[0m\u001b[0;34m,\u001b[0m \u001b[0mcy\u001b[0m\u001b[0;34m)\u001b[0m\u001b[0;34m\u001b[0m\u001b[0;34m\u001b[0m\u001b[0m\n\u001b[0m",
      "\u001b[0;31mNameError\u001b[0m: name 'cx' is not defined"
     ]
    }
   ],
   "source": [
    "spacc.spacc_daxpy(len(x), 1., cx, cy)\n"
   ]
  },
  {
   "cell_type": "code",
   "execution_count": null,
   "metadata": {},
   "outputs": [
    {
     "data": {
      "text/plain": [
       "array([-4.34851174e-01,  2.21951044e-01,  2.97501411e-02, ...,\n",
       "        5.00273757e-10,  3.67755744e-12,  0.00000000e+00])"
      ]
     },
     "execution_count": 22,
     "metadata": {},
     "output_type": "execute_result"
    }
   ],
   "source": [
    "y\n"
   ]
  },
  {
   "cell_type": "code",
   "execution_count": null,
   "metadata": {},
   "outputs": [],
   "source": [
    "npy = int_m.dot(x)\n"
   ]
  }
 ],
 "metadata": {
  "interpreter": {
   "hash": "ae55b61107c3fcfcf14605feb0b7c84f0daf57a46dc940cb57df0b4280aac84d"
  },
  "kernelspec": {
   "display_name": "Python 3.9.7 ('base')",
   "language": "python",
   "name": "python3"
  },
  "language_info": {
   "codemirror_mode": {
    "name": "ipython",
    "version": 3
   },
   "file_extension": ".py",
   "mimetype": "text/x-python",
   "name": "python",
   "nbconvert_exporter": "python",
   "pygments_lexer": "ipython3",
   "version": "3.9.7"
  },
  "orig_nbformat": 4
 },
 "nbformat": 4,
 "nbformat_minor": 2
}
